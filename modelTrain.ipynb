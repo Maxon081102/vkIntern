{
 "cells": [
  {
   "cell_type": "code",
   "execution_count": 1,
   "id": "aded2b70",
   "metadata": {},
   "outputs": [],
   "source": [
    "import os\n",
    "import torch\n",
    "import pickle\n",
    "import warnings\n",
    "import numpy as np\n",
    "import pandas as pd\n",
    "\n",
    "from torch import nn\n",
    "from tqdm.notebook import tqdm\n",
    "from transformers import pipeline, get_scheduler\n",
    "from torch.utils.data import Dataset, DataLoader\n",
    "\n",
    "import matplotlib.pyplot as plt\n",
    "%matplotlib inline"
   ]
  },
  {
   "cell_type": "code",
   "execution_count": 2,
   "id": "57ba8022",
   "metadata": {},
   "outputs": [],
   "source": [
    "from learningLoop import learning_loop\n",
    "from dataset import MovieDataset, collate_fn\n",
    "from model import movieModel, create_model_and_optimizer, load_glove_weights"
   ]
  },
  {
   "cell_type": "code",
   "execution_count": 3,
   "id": "a7bc3ac1",
   "metadata": {},
   "outputs": [],
   "source": [
    "dt = pd.read_csv(\"data.csv\")"
   ]
  },
  {
   "cell_type": "code",
   "execution_count": 4,
   "id": "06b5bef6",
   "metadata": {},
   "outputs": [],
   "source": [
    "userId = dt.userId.unique()"
   ]
  },
  {
   "cell_type": "code",
   "execution_count": 5,
   "id": "aeef57f3",
   "metadata": {},
   "outputs": [],
   "source": [
    "np.random.seed(777)\n",
    "proportion = 0.8\n",
    "users_for_train = np.random.choice([1, 0], size=len(userId), p=[proportion, 1 - proportion]).astype(bool)\n",
    "users_for_train = userId[users_for_train]"
   ]
  },
  {
   "cell_type": "code",
   "execution_count": 6,
   "id": "d02defd7",
   "metadata": {},
   "outputs": [
    {
     "data": {
      "application/vnd.jupyter.widget-view+json": {
       "model_id": "7136b436c7fd456aa85f44fe6367f570",
       "version_major": 2,
       "version_minor": 0
      },
      "text/plain": [
       "  0%|          | 0/7414489 [00:00<?, ?it/s]"
      ]
     },
     "metadata": {},
     "output_type": "display_data"
    }
   ],
   "source": [
    "users_for_train = set(users_for_train)\n",
    "train_ind = np.ones((len(dt)))\n",
    "for i in tqdm(range(len(dt))):\n",
    "    if dt.userId.to_numpy()[i] not in users_for_train:\n",
    "        train_ind[i] = -1"
   ]
  },
  {
   "cell_type": "code",
   "execution_count": 7,
   "id": "7a60a85a",
   "metadata": {},
   "outputs": [],
   "source": [
    "dt_for_train = dt.iloc[train_ind > 0]\n",
    "dt_for_test = dt.iloc[train_ind < 0]"
   ]
  },
  {
   "cell_type": "code",
   "execution_count": 8,
   "id": "5425ace7",
   "metadata": {},
   "outputs": [],
   "source": [
    "with open('tok_to_ind.pkl', 'rb') as f:\n",
    "    tok_to_ind = pickle.load(f)"
   ]
  },
  {
   "cell_type": "code",
   "execution_count": 9,
   "id": "27713b74",
   "metadata": {},
   "outputs": [],
   "source": [
    "ds_train = MovieDataset(\n",
    "    dt_for_train, \n",
    "    tok_to_ind,\n",
    "    count_of_tokens = 18,\n",
    "    size = 16,\n",
    "    count_with_rating = 4\n",
    ")\n",
    "ds_val = MovieDataset(\n",
    "    dt_for_test, \n",
    "    tok_to_ind,\n",
    "    count_of_tokens = 18,\n",
    "    size = 16,\n",
    "    count_with_rating = 4\n",
    ")"
   ]
  },
  {
   "cell_type": "code",
   "execution_count": 10,
   "id": "87481540",
   "metadata": {},
   "outputs": [],
   "source": [
    "batch_size = 8\n",
    "\n",
    "dataloader_train = DataLoader(\n",
    "    dataset=ds_train,\n",
    "    batch_size=batch_size,\n",
    "    collate_fn=collate_fn,\n",
    "    shuffle=True,\n",
    "    drop_last=True,\n",
    ")\n",
    "\n",
    "dataloader_val = DataLoader(\n",
    "    dataset=ds_val,\n",
    "    batch_size=batch_size,\n",
    "    collate_fn=collate_fn,\n",
    "    shuffle=False,\n",
    "    drop_last=False,\n",
    ")"
   ]
  },
  {
   "cell_type": "code",
   "execution_count": 11,
   "id": "b1761f1f",
   "metadata": {},
   "outputs": [
    {
     "name": "stdout",
     "output_type": "stream",
     "text": [
      "Loading Glove Weights\n"
     ]
    },
    {
     "data": {
      "application/vnd.jupyter.widget-view+json": {
       "model_id": "95951afbd52a4993a1f0404eec1d1386",
       "version_major": 2,
       "version_minor": 0
      },
      "text/plain": [
       "  0%|          | 0/2196018 [00:00<?, ?it/s]"
      ]
     },
     "metadata": {},
     "output_type": "display_data"
    },
    {
     "name": "stdout",
     "output_type": "stream",
     "text": [
      "515 words from vocab of size 536 loaded!\n"
     ]
    }
   ],
   "source": [
    "glove_path = \"./glove.840B.300d.txt\"\n",
    "glove_weights, mask_found = load_glove_weights(glove_path, tok_to_ind, \"[PAD]\")"
   ]
  },
  {
   "cell_type": "code",
   "execution_count": 12,
   "id": "e8f0a5e7",
   "metadata": {},
   "outputs": [],
   "source": [
    "user_encoder_info = {\n",
    "    \"embedding_word_size\": 300,\n",
    "    \"output_embedding_size\": 100,\n",
    "    \"token_count\": 18,\n",
    "    \"movie_count\": 16,\n",
    "    \"num_layers\": 3\n",
    "}\n",
    "movie_encoder_info = {\n",
    "    \"input_embedding_size\": 100,\n",
    "    \"output_embedding_size\": 100,\n",
    "    \"user_count\": 8,\n",
    "    \"num_layers\": 3\n",
    "}\n",
    "params = {\n",
    "    \"user_enc_info\": user_encoder_info,\n",
    "    \"movie_enc_info\": movie_encoder_info,\n",
    "    \"tok_to_ind\": tok_to_ind,\n",
    "    \"glove_weights\": glove_weights\n",
    "}"
   ]
  },
  {
   "cell_type": "code",
   "execution_count": 14,
   "id": "1d35c496",
   "metadata": {},
   "outputs": [],
   "source": [
    "device = torch.device('cuda:0') if torch.cuda.is_available() else torch.device('cpu')\n",
    "model, optimizer = create_model_and_optimizer(\n",
    "    model_class = movieModel,\n",
    "    model_params = params,\n",
    "    device = device,\n",
    ")\n",
    "    \n",
    "scheduler = torch.optim.lr_scheduler.ReduceLROnPlateau(optimizer, mode='min', factor=0.25, patience=4, threshold=0.001, verbose=True)\n",
    "   \n",
    "\n",
    "model, optimizer, losses, metrics = learning_loop(\n",
    "    model = model,\n",
    "    optimizer = optimizer,\n",
    "    train_loader = dataloader_train,\n",
    "    val_loader = dataloader_val,\n",
    "    criterion = None,\n",
    "    device = device,\n",
    "    scheduler = scheduler,\n",
    "    epochs = 100,\n",
    "    min_lr = 1e-7,\n",
    "    val_every = 1,\n",
    "    draw_every = 1,\n",
    "    separate_show = False,\n",
    "    metric_names = {\n",
    "        \"accuracy\": {\"plot_id\": 1},\n",
    "    },\n",
    "    chkp_folder = \"./chkp\",\n",
    "    model_name = \"movielV1\"\n",
    ")"
   ]
  },
  {
   "cell_type": "code",
   "execution_count": null,
   "id": "d421b8c9",
   "metadata": {},
   "outputs": [],
   "source": []
  }
 ],
 "metadata": {
  "kernelspec": {
   "display_name": "Python 3 (ipykernel)",
   "language": "python",
   "name": "python3"
  },
  "language_info": {
   "codemirror_mode": {
    "name": "ipython",
    "version": 3
   },
   "file_extension": ".py",
   "mimetype": "text/x-python",
   "name": "python",
   "nbconvert_exporter": "python",
   "pygments_lexer": "ipython3",
   "version": "3.10.10"
  }
 },
 "nbformat": 4,
 "nbformat_minor": 5
}
