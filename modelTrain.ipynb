{
 "cells": [
  {
   "cell_type": "code",
   "execution_count": 1,
   "id": "aded2b70",
   "metadata": {},
   "outputs": [],
   "source": [
    "import os\n",
    "import torch\n",
    "import pickle\n",
    "import warnings\n",
    "import numpy as np\n",
    "import pandas as pd\n",
    "\n",
    "from torch import nn\n",
    "from tqdm.notebook import tqdm\n",
    "from transformers import pipeline, get_scheduler\n",
    "from torch.utils.data import Dataset, DataLoader\n",
    "\n",
    "import matplotlib.pyplot as plt\n",
    "%matplotlib inline"
   ]
  },
  {
   "cell_type": "code",
   "execution_count": 2,
   "id": "57ba8022",
   "metadata": {},
   "outputs": [],
   "source": [
    "from learningLoop import learning_loop\n",
    "from dataset import MovieDataset, collate_fn\n",
    "from model import movieModel, create_model_and_optimizer, load_glove_weights"
   ]
  },
  {
   "cell_type": "code",
   "execution_count": 3,
   "id": "a4f2441d",
   "metadata": {},
   "outputs": [],
   "source": [
    "dt = pd.read_csv(\"data.csv\")"
   ]
  },
  {
   "cell_type": "code",
   "execution_count": 4,
   "id": "a6150897",
   "metadata": {},
   "outputs": [],
   "source": [
    "with open('tok_to_ind.pkl', 'rb') as f:\n",
    "    tok_to_ind = pickle.load(f)"
   ]
  },
  {
   "cell_type": "code",
   "execution_count": 5,
   "id": "442f0c3c",
   "metadata": {},
   "outputs": [],
   "source": [
    "np.random.seed(777)\n",
    "proportion = 0.75\n",
    "for_train = np.random.choice([1, 0], size=len(dt), p=[proportion, 1 - proportion])"
   ]
  },
  {
   "cell_type": "code",
   "execution_count": 6,
   "id": "fccf8164",
   "metadata": {},
   "outputs": [],
   "source": [
    "dt_for_train = dt.iloc[for_train]\n",
    "dt_for_test = dt.iloc[1 - for_train]"
   ]
  },
  {
   "cell_type": "code",
   "execution_count": 7,
   "id": "2aebd75b",
   "metadata": {},
   "outputs": [],
   "source": [
    "ds_train = MovieDataset(\n",
    "    dt_for_train, \n",
    "    sorted(dt_for_train.userId.unique()),\n",
    "    tok_to_ind,\n",
    "    size = 16,\n",
    "    count_with_rating=4\n",
    ")\n",
    "ds_val = MovieDataset(\n",
    "    dt_for_test, \n",
    "    sorted(dt_for_test.userId.unique()), \n",
    "    tok_to_ind,\n",
    "    size = 16,\n",
    "    count_with_rating=4\n",
    ")"
   ]
  },
  {
   "cell_type": "code",
   "execution_count": 8,
   "id": "db07e51c",
   "metadata": {},
   "outputs": [],
   "source": [
    "batch_size = 8\n",
    "\n",
    "dataloader_train = DataLoader(\n",
    "    dataset=ds_train,\n",
    "    batch_size=batch_size,\n",
    "    collate_fn=collate_fn,\n",
    "    shuffle=True,\n",
    "    drop_last=True,\n",
    ")\n",
    "\n",
    "dataloader_val = DataLoader(\n",
    "    dataset=ds_val,\n",
    "    batch_size=batch_size,\n",
    "    collate_fn=collate_fn,\n",
    "    shuffle=False,\n",
    "    drop_last=False,\n",
    ")"
   ]
  },
  {
   "cell_type": "code",
   "execution_count": 9,
   "id": "d9c18dd0",
   "metadata": {},
   "outputs": [
    {
     "name": "stdout",
     "output_type": "stream",
     "text": [
      "Loading Glove Weights\n"
     ]
    },
    {
     "data": {
      "application/vnd.jupyter.widget-view+json": {
       "model_id": "4da5e7965ce34b1681e13fcb145fe62e",
       "version_major": 2,
       "version_minor": 0
      },
      "text/plain": [
       "  0%|          | 0/2196018 [00:00<?, ?it/s]"
      ]
     },
     "metadata": {},
     "output_type": "display_data"
    },
    {
     "name": "stdout",
     "output_type": "stream",
     "text": [
      "7515 words from vocab of size 7912 loaded!\n"
     ]
    }
   ],
   "source": [
    "glove_path = \"./glove.840B.300d.txt\"\n",
    "glove_weights, mask_found = load_glove_weights(glove_path, tok_to_ind, \"[PAD]\")"
   ]
  },
  {
   "cell_type": "code",
   "execution_count": 10,
   "id": "fb217426",
   "metadata": {},
   "outputs": [],
   "source": [
    "user_encoder_info = {\n",
    "    \"embedding_word_size\": 300,\n",
    "    \"output_embedding_size\": 100,\n",
    "    \"token_count\": 18,\n",
    "    \"movie_count\": 16,\n",
    "    \"num_layers\": 3\n",
    "}\n",
    "movie_encoder_info = {\n",
    "    \"input_embedding_size\": 100,\n",
    "    \"output_embedding_size\": 100,\n",
    "    \"user_count\": 8,\n",
    "    \"num_layers\": 3\n",
    "}\n",
    "params = {\n",
    "    \"user_enc_info\": user_encoder_info,\n",
    "    \"movie_enc_info\": movie_encoder_info,\n",
    "    \"tok_to_ind\": tok_to_ind,\n",
    "    \"glove_weights\": glove_weights\n",
    "}"
   ]
  },
  {
   "cell_type": "code",
   "execution_count": null,
   "id": "4665e7ac",
   "metadata": {},
   "outputs": [
    {
     "name": "stdout",
     "output_type": "stream",
     "text": [
      "#1/100:\n"
     ]
    },
    {
     "data": {
      "application/vnd.jupyter.widget-view+json": {
       "model_id": "acee68b71f7d46d19f9175460ce3bded",
       "version_major": 2,
       "version_minor": 0
      },
      "text/plain": [
       "  0%|          | 0/1889058 [00:00<?, ?it/s]"
      ]
     },
     "metadata": {},
     "output_type": "display_data"
    }
   ],
   "source": [
    "device = torch.device('cuda:0') if torch.cuda.is_available() else torch.device('cpu')\n",
    "model, optimizer = create_model_and_optimizer(\n",
    "    model_class = movieModel,\n",
    "    model_params = params,\n",
    "    device = device,\n",
    ")\n",
    "    \n",
    "scheduler = torch.optim.lr_scheduler.ReduceLROnPlateau(optimizer, mode='min', factor=0.25, patience=4, threshold=0.001, verbose=True)\n",
    "   \n",
    "\n",
    "model, optimizer, losses, metrics = learning_loop(\n",
    "    model = model,\n",
    "    optimizer = optimizer,\n",
    "    train_loader = dataloader_train,\n",
    "    val_loader = dataloader_val,\n",
    "    criterion = None,\n",
    "    device = device,\n",
    "    scheduler = scheduler,\n",
    "    epochs = 100,\n",
    "    min_lr = 1e-7,\n",
    "    val_every = 1,\n",
    "    draw_every = 1,\n",
    "    separate_show = False,\n",
    "    metric_names = {\n",
    "        \"accuracy\": {\"plot_id\": 1},\n",
    "    },\n",
    "    chkp_folder = \"./chkp\",\n",
    "    model_name = \"movelV1\"\n",
    ")"
   ]
  },
  {
   "cell_type": "code",
   "execution_count": 13,
   "id": "8188ab66",
   "metadata": {},
   "outputs": [],
   "source": [
    "a = torch.Tensor([0, 1, 2, 3, 4])\n",
    "a= a.cuda()"
   ]
  },
  {
   "cell_type": "code",
   "execution_count": 14,
   "id": "145ac5ce",
   "metadata": {},
   "outputs": [
    {
     "data": {
      "text/plain": [
       "tensor([0., 1., 2., 3., 4.], device='cuda:0')"
      ]
     },
     "execution_count": 14,
     "metadata": {},
     "output_type": "execute_result"
    }
   ],
   "source": [
    "a"
   ]
  },
  {
   "cell_type": "code",
   "execution_count": null,
   "id": "942b149b",
   "metadata": {},
   "outputs": [],
   "source": []
  }
 ],
 "metadata": {
  "kernelspec": {
   "display_name": "Python 3 (ipykernel)",
   "language": "python",
   "name": "python3"
  },
  "language_info": {
   "codemirror_mode": {
    "name": "ipython",
    "version": 3
   },
   "file_extension": ".py",
   "mimetype": "text/x-python",
   "name": "python",
   "nbconvert_exporter": "python",
   "pygments_lexer": "ipython3",
   "version": "3.10.10"
  }
 },
 "nbformat": 4,
 "nbformat_minor": 5
}
