{
 "cells": [
  {
   "cell_type": "code",
   "execution_count": 1,
   "id": "a6f3dc41",
   "metadata": {},
   "outputs": [],
   "source": [
    "import re\n",
    "import nltk\n",
    "import numpy as np\n",
    "import pandas as pd\n",
    "import matplotlib.pyplot as plt\n",
    "\n",
    "from tqdm.notebook import tqdm\n",
    "from collections import Counter\n",
    "from tqdm.notebook import trange\n",
    "from nltk.stem import WordNetLemmatizer"
   ]
  },
  {
   "cell_type": "code",
   "execution_count": 2,
   "id": "8abb3ef4",
   "metadata": {},
   "outputs": [],
   "source": [
    "dt_movie = pd.read_csv(\"ml-latest/movies.csv\")\n",
    "dt_ratings = pd.read_csv(\"ml-latest/ratings.csv\")\n",
    "dt = pd.merge(dt_ratings, dt_movie)[[\"userId\", \"movieId\", \"title\", \"genres\", \"rating\"]]"
   ]
  },
  {
   "cell_type": "code",
   "execution_count": 3,
   "id": "9343cad3",
   "metadata": {},
   "outputs": [
    {
     "data": {
      "text/plain": [
       "(0.0, 100.0)"
      ]
     },
     "execution_count": 3,
     "metadata": {},
     "output_type": "execute_result"
    },
    {
     "data": {
      "image/png": "[encoded data removed]",
      "text/plain": [
       "<Figure size 640x480 with 1 Axes>"
      ]
     },
     "metadata": {},
     "output_type": "display_data"
    }
   ],
   "source": [
    "plt.hist(dt.groupby(['movieId']).userId.count() , color = 'blue', bins=1000, edgecolor = 'black')\n",
    "plt.plot([10000 for i in range(1024)], [i for i in range(1024)])\n",
    "plt.ylim([0, 100])"
   ]
  },
  {
   "cell_type": "code",
   "execution_count": 4,
   "id": "93b6260b",
   "metadata": {},
   "outputs": [
    {
     "data": {
      "application/vnd.jupyter.widget-view+json": {
       "model_id": "147f4280f42747efa03cd519ec3d05da",
       "version_major": 2,
       "version_minor": 0
      },
      "text/plain": [
       "  0%|          | 0/27753444 [00:00<?, ?it/s]"
      ]
     },
     "metadata": {},
     "output_type": "display_data"
    },
    {
     "data": {
      "text/html": [
       "<div>\n",
       "<style scoped>\n",
       "    .dataframe tbody tr th:only-of-type {\n",
       "        vertical-align: middle;\n",
       "    }\n",
       "\n",
       "    .dataframe tbody tr th {\n",
       "        vertical-align: top;\n",
       "    }\n",
       "\n",
       "    .dataframe thead th {\n",
       "        text-align: right;\n",
       "    }\n",
       "</style>\n",
       "<table border=\"1\" class=\"dataframe\">\n",
       "  <thead>\n",
       "    <tr style=\"text-align: right;\">\n",
       "      <th></th>\n",
       "      <th>userId</th>\n",
       "      <th>movieId</th>\n",
       "      <th>title</th>\n",
       "      <th>genres</th>\n",
       "      <th>rating</th>\n",
       "    </tr>\n",
       "  </thead>\n",
       "  <tbody>\n",
       "    <tr>\n",
       "      <th>32902</th>\n",
       "      <td>1</td>\n",
       "      <td>1590</td>\n",
       "      <td>Event Horizon (1997)</td>\n",
       "      <td>Horror|Sci-Fi|Thriller</td>\n",
       "      <td>2.5</td>\n",
       "    </tr>\n",
       "    <tr>\n",
       "      <th>32903</th>\n",
       "      <td>4</td>\n",
       "      <td>1590</td>\n",
       "      <td>Event Horizon (1997)</td>\n",
       "      <td>Horror|Sci-Fi|Thriller</td>\n",
       "      <td>3.5</td>\n",
       "    </tr>\n",
       "    <tr>\n",
       "      <th>32904</th>\n",
       "      <td>26</td>\n",
       "      <td>1590</td>\n",
       "      <td>Event Horizon (1997)</td>\n",
       "      <td>Horror|Sci-Fi|Thriller</td>\n",
       "      <td>4.0</td>\n",
       "    </tr>\n",
       "    <tr>\n",
       "      <th>32905</th>\n",
       "      <td>56</td>\n",
       "      <td>1590</td>\n",
       "      <td>Event Horizon (1997)</td>\n",
       "      <td>Horror|Sci-Fi|Thriller</td>\n",
       "      <td>4.0</td>\n",
       "    </tr>\n",
       "    <tr>\n",
       "      <th>32906</th>\n",
       "      <td>67</td>\n",
       "      <td>1590</td>\n",
       "      <td>Event Horizon (1997)</td>\n",
       "      <td>Horror|Sci-Fi|Thriller</td>\n",
       "      <td>1.0</td>\n",
       "    </tr>\n",
       "    <tr>\n",
       "      <th>...</th>\n",
       "      <td>...</td>\n",
       "      <td>...</td>\n",
       "      <td>...</td>\n",
       "      <td>...</td>\n",
       "      <td>...</td>\n",
       "    </tr>\n",
       "    <tr>\n",
       "      <th>24976553</th>\n",
       "      <td>283101</td>\n",
       "      <td>2366</td>\n",
       "      <td>King Kong (1933)</td>\n",
       "      <td>Action|Adventure|Fantasy|Horror</td>\n",
       "      <td>2.5</td>\n",
       "    </tr>\n",
       "    <tr>\n",
       "      <th>24976554</th>\n",
       "      <td>283116</td>\n",
       "      <td>2366</td>\n",
       "      <td>King Kong (1933)</td>\n",
       "      <td>Action|Adventure|Fantasy|Horror</td>\n",
       "      <td>4.0</td>\n",
       "    </tr>\n",
       "    <tr>\n",
       "      <th>24976555</th>\n",
       "      <td>283153</td>\n",
       "      <td>2366</td>\n",
       "      <td>King Kong (1933)</td>\n",
       "      <td>Action|Adventure|Fantasy|Horror</td>\n",
       "      <td>4.0</td>\n",
       "    </tr>\n",
       "    <tr>\n",
       "      <th>24976556</th>\n",
       "      <td>283187</td>\n",
       "      <td>2366</td>\n",
       "      <td>King Kong (1933)</td>\n",
       "      <td>Action|Adventure|Fantasy|Horror</td>\n",
       "      <td>3.5</td>\n",
       "    </tr>\n",
       "    <tr>\n",
       "      <th>24976557</th>\n",
       "      <td>283195</td>\n",
       "      <td>2366</td>\n",
       "      <td>King Kong (1933)</td>\n",
       "      <td>Action|Adventure|Fantasy|Horror</td>\n",
       "      <td>3.5</td>\n",
       "    </tr>\n",
       "  </tbody>\n",
       "</table>\n",
       "<p>16153870 rows × 5 columns</p>\n",
       "</div>"
      ],
      "text/plain": [
       "          userId  movieId                 title  \\\n",
       "32902          1     1590  Event Horizon (1997)   \n",
       "32903          4     1590  Event Horizon (1997)   \n",
       "32904         26     1590  Event Horizon (1997)   \n",
       "32905         56     1590  Event Horizon (1997)   \n",
       "32906         67     1590  Event Horizon (1997)   \n",
       "...          ...      ...                   ...   \n",
       "24976553  283101     2366      King Kong (1933)   \n",
       "24976554  283116     2366      King Kong (1933)   \n",
       "24976555  283153     2366      King Kong (1933)   \n",
       "24976556  283187     2366      King Kong (1933)   \n",
       "24976557  283195     2366      King Kong (1933)   \n",
       "\n",
       "                                   genres  rating  \n",
       "32902              Horror|Sci-Fi|Thriller     2.5  \n",
       "32903              Horror|Sci-Fi|Thriller     3.5  \n",
       "32904              Horror|Sci-Fi|Thriller     4.0  \n",
       "32905              Horror|Sci-Fi|Thriller     4.0  \n",
       "32906              Horror|Sci-Fi|Thriller     1.0  \n",
       "...                                   ...     ...  \n",
       "24976553  Action|Adventure|Fantasy|Horror     2.5  \n",
       "24976554  Action|Adventure|Fantasy|Horror     4.0  \n",
       "24976555  Action|Adventure|Fantasy|Horror     4.0  \n",
       "24976556  Action|Adventure|Fantasy|Horror     3.5  \n",
       "24976557  Action|Adventure|Fantasy|Horror     3.5  \n",
       "\n",
       "[16153870 rows x 5 columns]"
      ]
     },
     "execution_count": 4,
     "metadata": {},
     "output_type": "execute_result"
    }
   ],
   "source": [
    "threshold = 8000\n",
    "movieId = np.array(sorted(dt.movieId.unique()))[(dt.groupby(['movieId']).userId.count() > threshold).to_numpy()]\n",
    "\n",
    "movieId = set(movieId)\n",
    "right_ind = np.ones((len(dt)))\n",
    "for i in trange(len(dt)):\n",
    "    if dt.movieId.to_numpy()[i] not in movieId:\n",
    "        right_ind[i] = -1\n",
    "indexes = right_ind > 0\n",
    "\n",
    "\n",
    "dt.iloc[indexes]"
   ]
  },
  {
   "cell_type": "code",
   "execution_count": 5,
   "id": "a839507c",
   "metadata": {},
   "outputs": [],
   "source": [
    "dt = dt.iloc[indexes]"
   ]
  },
  {
   "cell_type": "code",
   "execution_count": 6,
   "id": "dc2e7deb",
   "metadata": {},
   "outputs": [
    {
     "data": {
      "text/plain": [
       "17559"
      ]
     },
     "execution_count": 6,
     "metadata": {},
     "output_type": "execute_result"
    }
   ],
   "source": [
    "(dt.groupby([\"userId\"]).rating.count() < 3).sum()"
   ]
  },
  {
   "cell_type": "code",
   "execution_count": 7,
   "id": "e743187d",
   "metadata": {},
   "outputs": [
    {
     "data": {
      "application/vnd.jupyter.widget-view+json": {
       "model_id": "a0254145d33b40c09f21b0d1161eb810",
       "version_major": 2,
       "version_minor": 0
      },
      "text/plain": [
       "  0%|          | 0/16153870 [00:00<?, ?it/s]"
      ]
     },
     "metadata": {},
     "output_type": "display_data"
    },
    {
     "data": {
      "text/html": [
       "<div>\n",
       "<style scoped>\n",
       "    .dataframe tbody tr th:only-of-type {\n",
       "        vertical-align: middle;\n",
       "    }\n",
       "\n",
       "    .dataframe tbody tr th {\n",
       "        vertical-align: top;\n",
       "    }\n",
       "\n",
       "    .dataframe thead th {\n",
       "        text-align: right;\n",
       "    }\n",
       "</style>\n",
       "<table border=\"1\" class=\"dataframe\">\n",
       "  <thead>\n",
       "    <tr style=\"text-align: right;\">\n",
       "      <th></th>\n",
       "      <th>userId</th>\n",
       "      <th>movieId</th>\n",
       "      <th>title</th>\n",
       "      <th>genres</th>\n",
       "      <th>rating</th>\n",
       "    </tr>\n",
       "  </thead>\n",
       "  <tbody>\n",
       "    <tr>\n",
       "      <th>32902</th>\n",
       "      <td>1</td>\n",
       "      <td>1590</td>\n",
       "      <td>Event Horizon (1997)</td>\n",
       "      <td>Horror|Sci-Fi|Thriller</td>\n",
       "      <td>2.5</td>\n",
       "    </tr>\n",
       "    <tr>\n",
       "      <th>32903</th>\n",
       "      <td>4</td>\n",
       "      <td>1590</td>\n",
       "      <td>Event Horizon (1997)</td>\n",
       "      <td>Horror|Sci-Fi|Thriller</td>\n",
       "      <td>3.5</td>\n",
       "    </tr>\n",
       "    <tr>\n",
       "      <th>32904</th>\n",
       "      <td>26</td>\n",
       "      <td>1590</td>\n",
       "      <td>Event Horizon (1997)</td>\n",
       "      <td>Horror|Sci-Fi|Thriller</td>\n",
       "      <td>4.0</td>\n",
       "    </tr>\n",
       "    <tr>\n",
       "      <th>32905</th>\n",
       "      <td>56</td>\n",
       "      <td>1590</td>\n",
       "      <td>Event Horizon (1997)</td>\n",
       "      <td>Horror|Sci-Fi|Thriller</td>\n",
       "      <td>4.0</td>\n",
       "    </tr>\n",
       "    <tr>\n",
       "      <th>32906</th>\n",
       "      <td>67</td>\n",
       "      <td>1590</td>\n",
       "      <td>Event Horizon (1997)</td>\n",
       "      <td>Horror|Sci-Fi|Thriller</td>\n",
       "      <td>1.0</td>\n",
       "    </tr>\n",
       "    <tr>\n",
       "      <th>...</th>\n",
       "      <td>...</td>\n",
       "      <td>...</td>\n",
       "      <td>...</td>\n",
       "      <td>...</td>\n",
       "      <td>...</td>\n",
       "    </tr>\n",
       "    <tr>\n",
       "      <th>24976553</th>\n",
       "      <td>283101</td>\n",
       "      <td>2366</td>\n",
       "      <td>King Kong (1933)</td>\n",
       "      <td>Action|Adventure|Fantasy|Horror</td>\n",
       "      <td>2.5</td>\n",
       "    </tr>\n",
       "    <tr>\n",
       "      <th>24976554</th>\n",
       "      <td>283116</td>\n",
       "      <td>2366</td>\n",
       "      <td>King Kong (1933)</td>\n",
       "      <td>Action|Adventure|Fantasy|Horror</td>\n",
       "      <td>4.0</td>\n",
       "    </tr>\n",
       "    <tr>\n",
       "      <th>24976555</th>\n",
       "      <td>283153</td>\n",
       "      <td>2366</td>\n",
       "      <td>King Kong (1933)</td>\n",
       "      <td>Action|Adventure|Fantasy|Horror</td>\n",
       "      <td>4.0</td>\n",
       "    </tr>\n",
       "    <tr>\n",
       "      <th>24976556</th>\n",
       "      <td>283187</td>\n",
       "      <td>2366</td>\n",
       "      <td>King Kong (1933)</td>\n",
       "      <td>Action|Adventure|Fantasy|Horror</td>\n",
       "      <td>3.5</td>\n",
       "    </tr>\n",
       "    <tr>\n",
       "      <th>24976557</th>\n",
       "      <td>283195</td>\n",
       "      <td>2366</td>\n",
       "      <td>King Kong (1933)</td>\n",
       "      <td>Action|Adventure|Fantasy|Horror</td>\n",
       "      <td>3.5</td>\n",
       "    </tr>\n",
       "  </tbody>\n",
       "</table>\n",
       "<p>15153408 rows × 5 columns</p>\n",
       "</div>"
      ],
      "text/plain": [
       "          userId  movieId                 title  \\\n",
       "32902          1     1590  Event Horizon (1997)   \n",
       "32903          4     1590  Event Horizon (1997)   \n",
       "32904         26     1590  Event Horizon (1997)   \n",
       "32905         56     1590  Event Horizon (1997)   \n",
       "32906         67     1590  Event Horizon (1997)   \n",
       "...          ...      ...                   ...   \n",
       "24976553  283101     2366      King Kong (1933)   \n",
       "24976554  283116     2366      King Kong (1933)   \n",
       "24976555  283153     2366      King Kong (1933)   \n",
       "24976556  283187     2366      King Kong (1933)   \n",
       "24976557  283195     2366      King Kong (1933)   \n",
       "\n",
       "                                   genres  rating  \n",
       "32902              Horror|Sci-Fi|Thriller     2.5  \n",
       "32903              Horror|Sci-Fi|Thriller     3.5  \n",
       "32904              Horror|Sci-Fi|Thriller     4.0  \n",
       "32905              Horror|Sci-Fi|Thriller     4.0  \n",
       "32906              Horror|Sci-Fi|Thriller     1.0  \n",
       "...                                   ...     ...  \n",
       "24976553  Action|Adventure|Fantasy|Horror     2.5  \n",
       "24976554  Action|Adventure|Fantasy|Horror     4.0  \n",
       "24976555  Action|Adventure|Fantasy|Horror     4.0  \n",
       "24976556  Action|Adventure|Fantasy|Horror     3.5  \n",
       "24976557  Action|Adventure|Fantasy|Horror     3.5  \n",
       "\n",
       "[15153408 rows x 5 columns]"
      ]
     },
     "execution_count": 7,
     "metadata": {},
     "output_type": "execute_result"
    }
   ],
   "source": [
    "user_count = len(dt.groupby([\"userId\"]))\n",
    "index = np.arange(1, user_count + 1)\n",
    "user_for_skip = index[(dt.groupby([\"userId\"]).rating.count() < 3).values]\n",
    "user_for_skip = set(user_for_skip)\n",
    "right_ind = np.ones((len(dt)))\n",
    "for i in trange(len(dt)):\n",
    "    if dt.userId.to_numpy()[i] in user_for_skip:\n",
    "        right_ind[i] = -1\n",
    "indexes = right_ind > 0\n",
    "\n",
    "\n",
    "dt.iloc[indexes]"
   ]
  },
  {
   "cell_type": "code",
   "execution_count": 8,
   "id": "419323eb",
   "metadata": {},
   "outputs": [],
   "source": [
    "dt = dt.iloc[indexes]"
   ]
  },
  {
   "cell_type": "code",
   "execution_count": 9,
   "id": "8a3fd86f",
   "metadata": {},
   "outputs": [],
   "source": [
    "lemmatizer = WordNetLemmatizer()\n",
    "\n",
    "def tokenize(text):\n",
    "    punctuation_marks = \",.?!:;\\'\\(\\)\\{\\}\\|\"\n",
    "    stop_words = [\"a\", \"the\"]\n",
    "    text = text.lower()\n",
    "    for symbol in text:\n",
    "        if symbol in punctuation_marks:\n",
    "            text = text.replace(symbol, \" \")\n",
    "    if text == \" no genres listed \":\n",
    "        return [text[1:-1]]\n",
    "    text = text.replace(\"\\n\", \"\")\n",
    "    if text[-1] == \" \":\n",
    "        text = text[:-1]\n",
    "    tokens = []\n",
    "    for token in text.split(\" \"):\n",
    "        if token != \"\" and token not in stop_words:\n",
    "            tokens.append(lemmatizer.lemmatize(token))\n",
    "    return tokens"
   ]
  },
  {
   "cell_type": "code",
   "execution_count": 10,
   "id": "5bd2f0c9",
   "metadata": {},
   "outputs": [],
   "source": [
    "def show_graph(vocab, sizes):\n",
    "    show_ = 20\n",
    "    fig, ax = plt.subplots(3, 1, figsize=(15, 9))\n",
    "\n",
    "    plt.subplot(312)\n",
    "    vocab = {k: v for k, v in sorted(vocab.items(), key=lambda item: item[1])}\n",
    "    plt.title('least popular words')\n",
    "    plt.bar(list(vocab.keys())[:show_], list(vocab.values())[:show_])\n",
    "\n",
    "    plt.subplot(311)\n",
    "    vocab = {k: v for k, v in sorted(vocab.items(), key=lambda item: item[1], reverse=True)}\n",
    "    plt.title('most popular words')\n",
    "    plt.bar(list(vocab.keys())[:show_], list(vocab.values())[:show_])\n",
    "\n",
    "    plt.subplot(313)\n",
    "    plt.title('sequence sizes')\n",
    "    plt.bar(list(sizes.keys()), list(sizes.values()))\n",
    "\n",
    "    fig.tight_layout()\n",
    "    plt.show()"
   ]
  },
  {
   "cell_type": "code",
   "execution_count": 11,
   "id": "1a8ee4cb",
   "metadata": {},
   "outputs": [],
   "source": [
    "def update_vocab(dt_merge, vocab, sizes, max_len, genres=False, print_long_tokens=False):\n",
    "    for_skip = []\n",
    "    dt = dt_merge.genres if genres else dt_merge.title\n",
    "    for i in trange(len(dt)):\n",
    "        title = dt.to_numpy()[i]\n",
    "        title_vocab = Counter(tokenize(title))\n",
    "        if(len(title_vocab)) > max_len:\n",
    "            if print_long_tokens:\n",
    "                print(dt_merge.title.to_numpy()[i])\n",
    "            for_skip.append(dt_merge.movieId.to_numpy()[i])\n",
    "            continue\n",
    "        sizes[len(title_vocab)] += 1\n",
    "        vocab.update(title_vocab)\n",
    "    return for_skip"
   ]
  },
  {
   "cell_type": "code",
   "execution_count": 12,
   "id": "7f240880",
   "metadata": {},
   "outputs": [
    {
     "data": {
      "application/vnd.jupyter.widget-view+json": {
       "model_id": "f60e921ab02743c39bfb3051cd878234",
       "version_major": 2,
       "version_minor": 0
      },
      "text/plain": [
       "  0%|          | 0/15153408 [00:00<?, ?it/s]"
      ]
     },
     "metadata": {},
     "output_type": "display_data"
    },
    {
     "data": {
      "application/vnd.jupyter.widget-view+json": {
       "model_id": "c723b26c1ae34165a76d8c369c935034",
       "version_major": 2,
       "version_minor": 0
      },
      "text/plain": [
       "  0%|          | 0/15153408 [00:00<?, ?it/s]"
      ]
     },
     "metadata": {},
     "output_type": "display_data"
    }
   ],
   "source": [
    "vocab_title = Counter()\n",
    "sizes_title = Counter()\n",
    "\n",
    "vocab_genres = Counter()\n",
    "sizes_genres = Counter()\n",
    "movie_for_skip = []\n",
    "movie_for_skip.extend(update_vocab(dt, vocab_title, sizes_title, 11, False))\n",
    "movie_for_skip.extend(update_vocab(dt, vocab_genres, sizes_genres, 8, True))"
   ]
  },
  {
   "cell_type": "code",
   "execution_count": 13,
   "id": "dedc83c5",
   "metadata": {},
   "outputs": [
    {
     "data": {
      "image/png": "[encoded data removed]",
      "text/plain": [
       "<Figure size 1500x900 with 3 Axes>"
      ]
     },
     "metadata": {},
     "output_type": "display_data"
    }
   ],
   "source": [
    "show_graph(vocab_title, sizes_title)"
   ]
  },
  {
   "cell_type": "code",
   "execution_count": 14,
   "id": "d641ed47",
   "metadata": {
    "scrolled": true
   },
   "outputs": [
    {
     "data": {
      "image/png": "[encoded data removed]",
      "text/plain": [
       "<Figure size 1500x900 with 3 Axes>"
      ]
     },
     "metadata": {},
     "output_type": "display_data"
    }
   ],
   "source": [
    "show_graph(vocab_genres, sizes_genres)"
   ]
  },
  {
   "cell_type": "code",
   "execution_count": 16,
   "id": "676aa945",
   "metadata": {},
   "outputs": [
    {
     "data": {
      "application/vnd.jupyter.widget-view+json": {
       "model_id": "95acba9225e44fdb8771b2c2586999af",
       "version_major": 2,
       "version_minor": 0
      },
      "text/plain": [
       "  0%|          | 0/15153408 [00:00<?, ?it/s]"
      ]
     },
     "metadata": {},
     "output_type": "display_data"
    },
    {
     "data": {
      "application/vnd.jupyter.widget-view+json": {
       "model_id": "e2612cc7e2a1465caa42c92c0fae8dfc",
       "version_major": 2,
       "version_minor": 0
      },
      "text/plain": [
       "  0%|          | 0/15153408 [00:00<?, ?it/s]"
      ]
     },
     "metadata": {},
     "output_type": "display_data"
    }
   ],
   "source": [
    "vocab_title = Counter()\n",
    "sizes_title = Counter()\n",
    "\n",
    "vocab_genres = Counter()\n",
    "sizes_genres = Counter()\n",
    "movie_for_skip = []\n",
    "movie_for_skip.extend(update_vocab(dt, vocab_title, sizes_title, 10, False))\n",
    "movie_for_skip.extend(update_vocab(dt, vocab_genres, sizes_genres, 7, True))"
   ]
  },
  {
   "cell_type": "code",
   "execution_count": 17,
   "id": "c2c65f1c",
   "metadata": {},
   "outputs": [],
   "source": [
    "tok_to_ind = {\n",
    "    \"[PAD]\": 0,\n",
    "    \"[UNK]\": 1,\n",
    "    \"no genres listed\": 2\n",
    "}\n",
    "ind_to_tok = {\n",
    "    0: \"[PAD]\",\n",
    "    1: \"[UNK]\",\n",
    "    2: \"no genres listed\"\n",
    "}"
   ]
  },
  {
   "cell_type": "code",
   "execution_count": 18,
   "id": "77f7b10c",
   "metadata": {},
   "outputs": [],
   "source": [
    "min_frequency = 3\n",
    "last_free_index = len(tok_to_ind)\n",
    "for token in vocab_title.keys():\n",
    "    if vocab_title[token] >= min_frequency and token not in tok_to_ind:\n",
    "        tok_to_ind[token] = last_free_index\n",
    "        ind_to_tok[last_free_index] = token\n",
    "        last_free_index += 1\n",
    "\n",
    "for token in vocab_genres.keys():\n",
    "    if vocab_genres[token] >= min_frequency and token not in tok_to_ind:\n",
    "        tok_to_ind[token] = last_free_index\n",
    "        ind_to_tok[last_free_index] = token\n",
    "        last_free_index += 1"
   ]
  },
  {
   "cell_type": "code",
   "execution_count": 21,
   "id": "2ae3e359",
   "metadata": {},
   "outputs": [
    {
     "data": {
      "application/vnd.jupyter.widget-view+json": {
       "model_id": "000fc4dfbdfd45bf8817e44ca826aa8b",
       "version_major": 2,
       "version_minor": 0
      },
      "text/plain": [
       "  0%|          | 0/15153408 [00:00<?, ?it/s]"
      ]
     },
     "metadata": {},
     "output_type": "display_data"
    },
    {
     "data": {
      "text/html": [
       "<div>\n",
       "<style scoped>\n",
       "    .dataframe tbody tr th:only-of-type {\n",
       "        vertical-align: middle;\n",
       "    }\n",
       "\n",
       "    .dataframe tbody tr th {\n",
       "        vertical-align: top;\n",
       "    }\n",
       "\n",
       "    .dataframe thead th {\n",
       "        text-align: right;\n",
       "    }\n",
       "</style>\n",
       "<table border=\"1\" class=\"dataframe\">\n",
       "  <thead>\n",
       "    <tr style=\"text-align: right;\">\n",
       "      <th></th>\n",
       "      <th>userId</th>\n",
       "      <th>movieId</th>\n",
       "      <th>title</th>\n",
       "      <th>genres</th>\n",
       "      <th>rating</th>\n",
       "    </tr>\n",
       "  </thead>\n",
       "  <tbody>\n",
       "    <tr>\n",
       "      <th>32902</th>\n",
       "      <td>1</td>\n",
       "      <td>1590</td>\n",
       "      <td>Event Horizon (1997)</td>\n",
       "      <td>Horror|Sci-Fi|Thriller</td>\n",
       "      <td>2.5</td>\n",
       "    </tr>\n",
       "    <tr>\n",
       "      <th>32903</th>\n",
       "      <td>4</td>\n",
       "      <td>1590</td>\n",
       "      <td>Event Horizon (1997)</td>\n",
       "      <td>Horror|Sci-Fi|Thriller</td>\n",
       "      <td>3.5</td>\n",
       "    </tr>\n",
       "    <tr>\n",
       "      <th>32904</th>\n",
       "      <td>26</td>\n",
       "      <td>1590</td>\n",
       "      <td>Event Horizon (1997)</td>\n",
       "      <td>Horror|Sci-Fi|Thriller</td>\n",
       "      <td>4.0</td>\n",
       "    </tr>\n",
       "    <tr>\n",
       "      <th>32905</th>\n",
       "      <td>56</td>\n",
       "      <td>1590</td>\n",
       "      <td>Event Horizon (1997)</td>\n",
       "      <td>Horror|Sci-Fi|Thriller</td>\n",
       "      <td>4.0</td>\n",
       "    </tr>\n",
       "    <tr>\n",
       "      <th>32906</th>\n",
       "      <td>67</td>\n",
       "      <td>1590</td>\n",
       "      <td>Event Horizon (1997)</td>\n",
       "      <td>Horror|Sci-Fi|Thriller</td>\n",
       "      <td>1.0</td>\n",
       "    </tr>\n",
       "    <tr>\n",
       "      <th>...</th>\n",
       "      <td>...</td>\n",
       "      <td>...</td>\n",
       "      <td>...</td>\n",
       "      <td>...</td>\n",
       "      <td>...</td>\n",
       "    </tr>\n",
       "    <tr>\n",
       "      <th>24976553</th>\n",
       "      <td>283101</td>\n",
       "      <td>2366</td>\n",
       "      <td>King Kong (1933)</td>\n",
       "      <td>Action|Adventure|Fantasy|Horror</td>\n",
       "      <td>2.5</td>\n",
       "    </tr>\n",
       "    <tr>\n",
       "      <th>24976554</th>\n",
       "      <td>283116</td>\n",
       "      <td>2366</td>\n",
       "      <td>King Kong (1933)</td>\n",
       "      <td>Action|Adventure|Fantasy|Horror</td>\n",
       "      <td>4.0</td>\n",
       "    </tr>\n",
       "    <tr>\n",
       "      <th>24976555</th>\n",
       "      <td>283153</td>\n",
       "      <td>2366</td>\n",
       "      <td>King Kong (1933)</td>\n",
       "      <td>Action|Adventure|Fantasy|Horror</td>\n",
       "      <td>4.0</td>\n",
       "    </tr>\n",
       "    <tr>\n",
       "      <th>24976556</th>\n",
       "      <td>283187</td>\n",
       "      <td>2366</td>\n",
       "      <td>King Kong (1933)</td>\n",
       "      <td>Action|Adventure|Fantasy|Horror</td>\n",
       "      <td>3.5</td>\n",
       "    </tr>\n",
       "    <tr>\n",
       "      <th>24976557</th>\n",
       "      <td>283195</td>\n",
       "      <td>2366</td>\n",
       "      <td>King Kong (1933)</td>\n",
       "      <td>Action|Adventure|Fantasy|Horror</td>\n",
       "      <td>3.5</td>\n",
       "    </tr>\n",
       "  </tbody>\n",
       "</table>\n",
       "<p>15112466 rows × 5 columns</p>\n",
       "</div>"
      ],
      "text/plain": [
       "          userId  movieId                 title  \\\n",
       "32902          1     1590  Event Horizon (1997)   \n",
       "32903          4     1590  Event Horizon (1997)   \n",
       "32904         26     1590  Event Horizon (1997)   \n",
       "32905         56     1590  Event Horizon (1997)   \n",
       "32906         67     1590  Event Horizon (1997)   \n",
       "...          ...      ...                   ...   \n",
       "24976553  283101     2366      King Kong (1933)   \n",
       "24976554  283116     2366      King Kong (1933)   \n",
       "24976555  283153     2366      King Kong (1933)   \n",
       "24976556  283187     2366      King Kong (1933)   \n",
       "24976557  283195     2366      King Kong (1933)   \n",
       "\n",
       "                                   genres  rating  \n",
       "32902              Horror|Sci-Fi|Thriller     2.5  \n",
       "32903              Horror|Sci-Fi|Thriller     3.5  \n",
       "32904              Horror|Sci-Fi|Thriller     4.0  \n",
       "32905              Horror|Sci-Fi|Thriller     4.0  \n",
       "32906              Horror|Sci-Fi|Thriller     1.0  \n",
       "...                                   ...     ...  \n",
       "24976553  Action|Adventure|Fantasy|Horror     2.5  \n",
       "24976554  Action|Adventure|Fantasy|Horror     4.0  \n",
       "24976555  Action|Adventure|Fantasy|Horror     4.0  \n",
       "24976556  Action|Adventure|Fantasy|Horror     3.5  \n",
       "24976557  Action|Adventure|Fantasy|Horror     3.5  \n",
       "\n",
       "[15112466 rows x 5 columns]"
      ]
     },
     "execution_count": 21,
     "metadata": {},
     "output_type": "execute_result"
    }
   ],
   "source": [
    "movie_for_skip = set(movie_for_skip)\n",
    "right_ind = np.ones((len(dt)))\n",
    "for i in trange(len(dt)):\n",
    "    if dt.movieId.to_numpy()[i] in movie_for_skip:\n",
    "        right_ind[i] = -1\n",
    "indexes = right_ind > 0\n",
    "dt.iloc[indexes]"
   ]
  },
  {
   "cell_type": "code",
   "execution_count": 22,
   "id": "8be24844",
   "metadata": {},
   "outputs": [],
   "source": [
    "dt = dt.iloc[indexes]"
   ]
  },
  {
   "cell_type": "code",
   "execution_count": 23,
   "id": "d86fd825",
   "metadata": {},
   "outputs": [],
   "source": [
    "dt.to_csv(\"data.csv\")"
   ]
  },
  {
   "cell_type": "code",
   "execution_count": 19,
   "id": "680c7c53",
   "metadata": {},
   "outputs": [],
   "source": [
    "import pickle \n",
    "\n",
    "with open('tok_to_ind.pkl', 'wb') as f:\n",
    "    pickle.dump(tok_to_ind, f)"
   ]
  },
  {
   "cell_type": "code",
   "execution_count": null,
   "id": "be9abddc",
   "metadata": {},
   "outputs": [],
   "source": []
  }
 ],
 "metadata": {
  "kernelspec": {
   "display_name": "Python 3 (ipykernel)",
   "language": "python",
   "name": "python3"
  },
  "language_info": {
   "codemirror_mode": {
    "name": "ipython",
    "version": 3
   },
   "file_extension": ".py",
   "mimetype": "text/x-python",
   "name": "python",
   "nbconvert_exporter": "python",
   "pygments_lexer": "ipython3",
   "version": "3.10.10"
  }
 },
 "nbformat": 4,
 "nbformat_minor": 5
}
