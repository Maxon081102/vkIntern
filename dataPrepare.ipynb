{
 "cells": [
  {
   "cell_type": "code",
   "execution_count": 1,
   "id": "a6f3dc41",
   "metadata": {},
   "outputs": [],
   "source": [
    "import re\n",
    "import nltk\n",
    "import numpy as np\n",
    "import pandas as pd\n",
    "import matplotlib.pyplot as plt\n",
    "\n",
    "from tqdm.notebook import tqdm\n",
    "from collections import Counter\n",
    "from tqdm.notebook import trange\n",
    "from nltk.stem import WordNetLemmatizer"
   ]
  },
  {
   "cell_type": "code",
   "execution_count": 2,
   "id": "8abb3ef4",
   "metadata": {},
   "outputs": [],
   "source": [
    "dt_movie = pd.read_csv(\"ml-latest/movies.csv\")\n",
    "dt_ratings = pd.read_csv(\"ml-latest/ratings.csv\")\n",
    "dt = pd.merge(dt_ratings, dt_movie)[[\"userId\", \"movieId\", \"title\", \"genres\", \"rating\"]]"
   ]
  },
  {
   "cell_type": "code",
   "execution_count": 3,
   "id": "9343cad3",
   "metadata": {},
   "outputs": [
    {
     "data": {
      "text/plain": [
       "(0.0, 100.0)"
      ]
     },
     "execution_count": 3,
     "metadata": {},
     "output_type": "execute_result"
    },
    {
     "data": {
      "image/png": "[encoded data removed]",
      "text/plain": [
       "<Figure size 640x480 with 1 Axes>"
      ]
     },
     "metadata": {},
     "output_type": "display_data"
    }
   ],
   "source": [
    "plt.hist(dt.groupby(['movieId']).userId.count() , color = 'blue', bins=1000, edgecolor = 'black')\n",
    "plt.plot([16000 for i in range(1024)], [i for i in range(1024)])\n",
    "plt.ylim([0, 100])"
   ]
  },
  {
   "cell_type": "code",
   "execution_count": 4,
   "id": "93b6260b",
   "metadata": {},
   "outputs": [
    {
     "data": {
      "application/vnd.jupyter.widget-view+json": {
       "model_id": "e593fdf8f6f04536aefb574170e1c0a0",
       "version_major": 2,
       "version_minor": 0
      },
      "text/plain": [
       "  0%|          | 0/27753444 [00:00<?, ?it/s]"
      ]
     },
     "metadata": {},
     "output_type": "display_data"
    },
    {
     "data": {
      "text/html": [
       "<div>\n",
       "<style scoped>\n",
       "    .dataframe tbody tr th:only-of-type {\n",
       "        vertical-align: middle;\n",
       "    }\n",
       "\n",
       "    .dataframe tbody tr th {\n",
       "        vertical-align: top;\n",
       "    }\n",
       "\n",
       "    .dataframe thead th {\n",
       "        text-align: right;\n",
       "    }\n",
       "</style>\n",
       "<table border=\"1\" class=\"dataframe\">\n",
       "  <thead>\n",
       "    <tr style=\"text-align: right;\">\n",
       "      <th></th>\n",
       "      <th>userId</th>\n",
       "      <th>movieId</th>\n",
       "      <th>title</th>\n",
       "      <th>genres</th>\n",
       "      <th>rating</th>\n",
       "    </tr>\n",
       "  </thead>\n",
       "  <tbody>\n",
       "    <tr>\n",
       "      <th>251747</th>\n",
       "      <td>3</td>\n",
       "      <td>1221</td>\n",
       "      <td>Godfather: Part II, The (1974)</td>\n",
       "      <td>Crime|Drama</td>\n",
       "      <td>4.0</td>\n",
       "    </tr>\n",
       "    <tr>\n",
       "      <th>251748</th>\n",
       "      <td>15</td>\n",
       "      <td>1221</td>\n",
       "      <td>Godfather: Part II, The (1974)</td>\n",
       "      <td>Crime|Drama</td>\n",
       "      <td>4.0</td>\n",
       "    </tr>\n",
       "    <tr>\n",
       "      <th>251749</th>\n",
       "      <td>37</td>\n",
       "      <td>1221</td>\n",
       "      <td>Godfather: Part II, The (1974)</td>\n",
       "      <td>Crime|Drama</td>\n",
       "      <td>3.0</td>\n",
       "    </tr>\n",
       "    <tr>\n",
       "      <th>251750</th>\n",
       "      <td>49</td>\n",
       "      <td>1221</td>\n",
       "      <td>Godfather: Part II, The (1974)</td>\n",
       "      <td>Crime|Drama</td>\n",
       "      <td>2.0</td>\n",
       "    </tr>\n",
       "    <tr>\n",
       "      <th>251751</th>\n",
       "      <td>55</td>\n",
       "      <td>1221</td>\n",
       "      <td>Godfather: Part II, The (1974)</td>\n",
       "      <td>Crime|Drama</td>\n",
       "      <td>3.5</td>\n",
       "    </tr>\n",
       "    <tr>\n",
       "      <th>...</th>\n",
       "      <td>...</td>\n",
       "      <td>...</td>\n",
       "      <td>...</td>\n",
       "      <td>...</td>\n",
       "      <td>...</td>\n",
       "    </tr>\n",
       "    <tr>\n",
       "      <th>17436773</th>\n",
       "      <td>283158</td>\n",
       "      <td>1573</td>\n",
       "      <td>Face/Off (1997)</td>\n",
       "      <td>Action|Crime|Drama|Thriller</td>\n",
       "      <td>4.0</td>\n",
       "    </tr>\n",
       "    <tr>\n",
       "      <th>17436774</th>\n",
       "      <td>283171</td>\n",
       "      <td>1573</td>\n",
       "      <td>Face/Off (1997)</td>\n",
       "      <td>Action|Crime|Drama|Thriller</td>\n",
       "      <td>3.0</td>\n",
       "    </tr>\n",
       "    <tr>\n",
       "      <th>17436775</th>\n",
       "      <td>283185</td>\n",
       "      <td>1573</td>\n",
       "      <td>Face/Off (1997)</td>\n",
       "      <td>Action|Crime|Drama|Thriller</td>\n",
       "      <td>3.0</td>\n",
       "    </tr>\n",
       "    <tr>\n",
       "      <th>17436776</th>\n",
       "      <td>283195</td>\n",
       "      <td>1573</td>\n",
       "      <td>Face/Off (1997)</td>\n",
       "      <td>Action|Crime|Drama|Thriller</td>\n",
       "      <td>2.0</td>\n",
       "    </tr>\n",
       "    <tr>\n",
       "      <th>17436777</th>\n",
       "      <td>283213</td>\n",
       "      <td>1573</td>\n",
       "      <td>Face/Off (1997)</td>\n",
       "      <td>Action|Crime|Drama|Thriller</td>\n",
       "      <td>4.0</td>\n",
       "    </tr>\n",
       "  </tbody>\n",
       "</table>\n",
       "<p>8202246 rows × 5 columns</p>\n",
       "</div>"
      ],
      "text/plain": [
       "          userId  movieId                           title  \\\n",
       "251747         3     1221  Godfather: Part II, The (1974)   \n",
       "251748        15     1221  Godfather: Part II, The (1974)   \n",
       "251749        37     1221  Godfather: Part II, The (1974)   \n",
       "251750        49     1221  Godfather: Part II, The (1974)   \n",
       "251751        55     1221  Godfather: Part II, The (1974)   \n",
       "...          ...      ...                             ...   \n",
       "17436773  283158     1573                 Face/Off (1997)   \n",
       "17436774  283171     1573                 Face/Off (1997)   \n",
       "17436775  283185     1573                 Face/Off (1997)   \n",
       "17436776  283195     1573                 Face/Off (1997)   \n",
       "17436777  283213     1573                 Face/Off (1997)   \n",
       "\n",
       "                               genres  rating  \n",
       "251747                    Crime|Drama     4.0  \n",
       "251748                    Crime|Drama     4.0  \n",
       "251749                    Crime|Drama     3.0  \n",
       "251750                    Crime|Drama     2.0  \n",
       "251751                    Crime|Drama     3.5  \n",
       "...                               ...     ...  \n",
       "17436773  Action|Crime|Drama|Thriller     4.0  \n",
       "17436774  Action|Crime|Drama|Thriller     3.0  \n",
       "17436775  Action|Crime|Drama|Thriller     3.0  \n",
       "17436776  Action|Crime|Drama|Thriller     2.0  \n",
       "17436777  Action|Crime|Drama|Thriller     4.0  \n",
       "\n",
       "[8202246 rows x 5 columns]"
      ]
     },
     "execution_count": 4,
     "metadata": {},
     "output_type": "execute_result"
    }
   ],
   "source": [
    "threshold = 20000\n",
    "movieId = np.array(sorted(dt.movieId.unique()))[(dt.groupby(['movieId']).userId.count() > threshold).to_numpy()]\n",
    "\n",
    "movieId = set(movieId)\n",
    "right_ind = np.ones((len(dt)))\n",
    "for i in trange(len(dt)):\n",
    "    if dt.movieId.to_numpy()[i] not in movieId:\n",
    "        right_ind[i] = -1\n",
    "indexes = right_ind > 0\n",
    "\n",
    "\n",
    "dt.iloc[indexes]"
   ]
  },
  {
   "cell_type": "code",
   "execution_count": 5,
   "id": "a839507c",
   "metadata": {},
   "outputs": [],
   "source": [
    "dt = dt.iloc[indexes]"
   ]
  },
  {
   "cell_type": "code",
   "execution_count": 6,
   "id": "dc2e7deb",
   "metadata": {},
   "outputs": [
    {
     "data": {
      "text/plain": [
       "26527"
      ]
     },
     "execution_count": 6,
     "metadata": {},
     "output_type": "execute_result"
    }
   ],
   "source": [
    "(dt.groupby([\"userId\"]).rating.count() < 3).sum()"
   ]
  },
  {
   "cell_type": "code",
   "execution_count": 7,
   "id": "e743187d",
   "metadata": {},
   "outputs": [
    {
     "data": {
      "application/vnd.jupyter.widget-view+json": {
       "model_id": "b66a0d0bae934de4aa4359ce3c280f6a",
       "version_major": 2,
       "version_minor": 0
      },
      "text/plain": [
       "  0%|          | 0/8202246 [00:00<?, ?it/s]"
      ]
     },
     "metadata": {},
     "output_type": "display_data"
    },
    {
     "data": {
      "text/html": [
       "<div>\n",
       "<style scoped>\n",
       "    .dataframe tbody tr th:only-of-type {\n",
       "        vertical-align: middle;\n",
       "    }\n",
       "\n",
       "    .dataframe tbody tr th {\n",
       "        vertical-align: top;\n",
       "    }\n",
       "\n",
       "    .dataframe thead th {\n",
       "        text-align: right;\n",
       "    }\n",
       "</style>\n",
       "<table border=\"1\" class=\"dataframe\">\n",
       "  <thead>\n",
       "    <tr style=\"text-align: right;\">\n",
       "      <th></th>\n",
       "      <th>userId</th>\n",
       "      <th>movieId</th>\n",
       "      <th>title</th>\n",
       "      <th>genres</th>\n",
       "      <th>rating</th>\n",
       "    </tr>\n",
       "  </thead>\n",
       "  <tbody>\n",
       "    <tr>\n",
       "      <th>251747</th>\n",
       "      <td>3</td>\n",
       "      <td>1221</td>\n",
       "      <td>Godfather: Part II, The (1974)</td>\n",
       "      <td>Crime|Drama</td>\n",
       "      <td>4.0</td>\n",
       "    </tr>\n",
       "    <tr>\n",
       "      <th>251748</th>\n",
       "      <td>15</td>\n",
       "      <td>1221</td>\n",
       "      <td>Godfather: Part II, The (1974)</td>\n",
       "      <td>Crime|Drama</td>\n",
       "      <td>4.0</td>\n",
       "    </tr>\n",
       "    <tr>\n",
       "      <th>251749</th>\n",
       "      <td>37</td>\n",
       "      <td>1221</td>\n",
       "      <td>Godfather: Part II, The (1974)</td>\n",
       "      <td>Crime|Drama</td>\n",
       "      <td>3.0</td>\n",
       "    </tr>\n",
       "    <tr>\n",
       "      <th>251750</th>\n",
       "      <td>49</td>\n",
       "      <td>1221</td>\n",
       "      <td>Godfather: Part II, The (1974)</td>\n",
       "      <td>Crime|Drama</td>\n",
       "      <td>2.0</td>\n",
       "    </tr>\n",
       "    <tr>\n",
       "      <th>251752</th>\n",
       "      <td>56</td>\n",
       "      <td>1221</td>\n",
       "      <td>Godfather: Part II, The (1974)</td>\n",
       "      <td>Crime|Drama</td>\n",
       "      <td>3.0</td>\n",
       "    </tr>\n",
       "    <tr>\n",
       "      <th>...</th>\n",
       "      <td>...</td>\n",
       "      <td>...</td>\n",
       "      <td>...</td>\n",
       "      <td>...</td>\n",
       "      <td>...</td>\n",
       "    </tr>\n",
       "    <tr>\n",
       "      <th>17436773</th>\n",
       "      <td>283158</td>\n",
       "      <td>1573</td>\n",
       "      <td>Face/Off (1997)</td>\n",
       "      <td>Action|Crime|Drama|Thriller</td>\n",
       "      <td>4.0</td>\n",
       "    </tr>\n",
       "    <tr>\n",
       "      <th>17436774</th>\n",
       "      <td>283171</td>\n",
       "      <td>1573</td>\n",
       "      <td>Face/Off (1997)</td>\n",
       "      <td>Action|Crime|Drama|Thriller</td>\n",
       "      <td>3.0</td>\n",
       "    </tr>\n",
       "    <tr>\n",
       "      <th>17436775</th>\n",
       "      <td>283185</td>\n",
       "      <td>1573</td>\n",
       "      <td>Face/Off (1997)</td>\n",
       "      <td>Action|Crime|Drama|Thriller</td>\n",
       "      <td>3.0</td>\n",
       "    </tr>\n",
       "    <tr>\n",
       "      <th>17436776</th>\n",
       "      <td>283195</td>\n",
       "      <td>1573</td>\n",
       "      <td>Face/Off (1997)</td>\n",
       "      <td>Action|Crime|Drama|Thriller</td>\n",
       "      <td>2.0</td>\n",
       "    </tr>\n",
       "    <tr>\n",
       "      <th>17436777</th>\n",
       "      <td>283213</td>\n",
       "      <td>1573</td>\n",
       "      <td>Face/Off (1997)</td>\n",
       "      <td>Action|Crime|Drama|Thriller</td>\n",
       "      <td>4.0</td>\n",
       "    </tr>\n",
       "  </tbody>\n",
       "</table>\n",
       "<p>7441183 rows × 5 columns</p>\n",
       "</div>"
      ],
      "text/plain": [
       "          userId  movieId                           title  \\\n",
       "251747         3     1221  Godfather: Part II, The (1974)   \n",
       "251748        15     1221  Godfather: Part II, The (1974)   \n",
       "251749        37     1221  Godfather: Part II, The (1974)   \n",
       "251750        49     1221  Godfather: Part II, The (1974)   \n",
       "251752        56     1221  Godfather: Part II, The (1974)   \n",
       "...          ...      ...                             ...   \n",
       "17436773  283158     1573                 Face/Off (1997)   \n",
       "17436774  283171     1573                 Face/Off (1997)   \n",
       "17436775  283185     1573                 Face/Off (1997)   \n",
       "17436776  283195     1573                 Face/Off (1997)   \n",
       "17436777  283213     1573                 Face/Off (1997)   \n",
       "\n",
       "                               genres  rating  \n",
       "251747                    Crime|Drama     4.0  \n",
       "251748                    Crime|Drama     4.0  \n",
       "251749                    Crime|Drama     3.0  \n",
       "251750                    Crime|Drama     2.0  \n",
       "251752                    Crime|Drama     3.0  \n",
       "...                               ...     ...  \n",
       "17436773  Action|Crime|Drama|Thriller     4.0  \n",
       "17436774  Action|Crime|Drama|Thriller     3.0  \n",
       "17436775  Action|Crime|Drama|Thriller     3.0  \n",
       "17436776  Action|Crime|Drama|Thriller     2.0  \n",
       "17436777  Action|Crime|Drama|Thriller     4.0  \n",
       "\n",
       "[7441183 rows x 5 columns]"
      ]
     },
     "execution_count": 7,
     "metadata": {},
     "output_type": "execute_result"
    }
   ],
   "source": [
    "user_count = len(dt.groupby([\"userId\"]))\n",
    "index = np.arange(1, user_count + 1)\n",
    "user_for_skip = index[(dt.groupby([\"userId\"]).rating.count() < 3).values]\n",
    "user_for_skip = set(user_for_skip)\n",
    "right_ind = np.ones((len(dt)))\n",
    "for i in trange(len(dt)):\n",
    "    if dt.userId.to_numpy()[i] in user_for_skip:\n",
    "        right_ind[i] = -1\n",
    "indexes = right_ind > 0\n",
    "\n",
    "\n",
    "dt.iloc[indexes]"
   ]
  },
  {
   "cell_type": "code",
   "execution_count": 8,
   "id": "419323eb",
   "metadata": {},
   "outputs": [],
   "source": [
    "dt = dt.iloc[indexes]"
   ]
  },
  {
   "cell_type": "code",
   "execution_count": 9,
   "id": "8a3fd86f",
   "metadata": {},
   "outputs": [],
   "source": [
    "lemmatizer = WordNetLemmatizer()\n",
    "\n",
    "def tokenize(text):\n",
    "    punctuation_marks = \",.?!:;\\'\\(\\)\\{\\}\\|\"\n",
    "    stop_words = [\"a\", \"the\"]\n",
    "    text = text.lower()\n",
    "    for symbol in text:\n",
    "        if symbol in punctuation_marks:\n",
    "            text = text.replace(symbol, \" \")\n",
    "    if text == \" no genres listed \":\n",
    "        return [text[1:-1]]\n",
    "    text = text.replace(\"\\n\", \"\")\n",
    "    if text[-1] == \" \":\n",
    "        text = text[:-1]\n",
    "    tokens = []\n",
    "    for token in text.split(\" \"):\n",
    "        if token != \"\" and token not in stop_words:\n",
    "            tokens.append(lemmatizer.lemmatize(token))\n",
    "    return tokens"
   ]
  },
  {
   "cell_type": "code",
   "execution_count": 10,
   "id": "5bd2f0c9",
   "metadata": {},
   "outputs": [],
   "source": [
    "def show_graph(vocab, sizes):\n",
    "    show_ = 20\n",
    "    fig, ax = plt.subplots(3, 1, figsize=(15, 9))\n",
    "\n",
    "    plt.subplot(312)\n",
    "    vocab = {k: v for k, v in sorted(vocab.items(), key=lambda item: item[1])}\n",
    "    plt.title('least popular words')\n",
    "    plt.bar(list(vocab.keys())[:show_], list(vocab.values())[:show_])\n",
    "\n",
    "    plt.subplot(311)\n",
    "    vocab = {k: v for k, v in sorted(vocab.items(), key=lambda item: item[1], reverse=True)}\n",
    "    plt.title('most popular words')\n",
    "    plt.bar(list(vocab.keys())[:show_], list(vocab.values())[:show_])\n",
    "\n",
    "    plt.subplot(313)\n",
    "    plt.title('sequence sizes')\n",
    "    plt.bar(list(sizes.keys()), list(sizes.values()))\n",
    "\n",
    "    fig.tight_layout()\n",
    "    plt.show()"
   ]
  },
  {
   "cell_type": "code",
   "execution_count": 11,
   "id": "1a8ee4cb",
   "metadata": {},
   "outputs": [],
   "source": [
    "def update_vocab(dt_merge, vocab, sizes, max_len, genres=False, print_long_tokens=False):\n",
    "    for_skip = []\n",
    "    dt = dt_merge.genres if genres else dt_merge.title\n",
    "    for i in trange(len(dt)):\n",
    "        title = dt.to_numpy()[i]\n",
    "        title_vocab = Counter(tokenize(title))\n",
    "        if(len(title_vocab)) > max_len:\n",
    "            if print_long_tokens:\n",
    "                print(dt_merge.title.to_numpy()[i])\n",
    "            for_skip.append(dt_merge.movieId.to_numpy()[i])\n",
    "            continue\n",
    "        sizes[len(title_vocab)] += 1\n",
    "        vocab.update(title_vocab)\n",
    "    return for_skip"
   ]
  },
  {
   "cell_type": "code",
   "execution_count": 12,
   "id": "7f240880",
   "metadata": {},
   "outputs": [
    {
     "data": {
      "application/vnd.jupyter.widget-view+json": {
       "model_id": "bca24f199b0148ccbe066f9908b3a8d7",
       "version_major": 2,
       "version_minor": 0
      },
      "text/plain": [
       "  0%|          | 0/7441183 [00:00<?, ?it/s]"
      ]
     },
     "metadata": {},
     "output_type": "display_data"
    },
    {
     "data": {
      "application/vnd.jupyter.widget-view+json": {
       "model_id": "95db061c1a4247e98b0d76cb1ed0339e",
       "version_major": 2,
       "version_minor": 0
      },
      "text/plain": [
       "  0%|          | 0/7441183 [00:00<?, ?it/s]"
      ]
     },
     "metadata": {},
     "output_type": "display_data"
    }
   ],
   "source": [
    "vocab_title = Counter()\n",
    "sizes_title = Counter()\n",
    "\n",
    "vocab_genres = Counter()\n",
    "sizes_genres = Counter()\n",
    "movie_for_skip = []\n",
    "movie_for_skip.extend(update_vocab(dt, vocab_title, sizes_title, 11, False))\n",
    "movie_for_skip.extend(update_vocab(dt, vocab_genres, sizes_genres, 8, True))"
   ]
  },
  {
   "cell_type": "code",
   "execution_count": 13,
   "id": "dedc83c5",
   "metadata": {},
   "outputs": [
    {
     "data": {
      "image/png": "[encoded data removed]",
      "text/plain": [
       "<Figure size 1500x900 with 3 Axes>"
      ]
     },
     "metadata": {},
     "output_type": "display_data"
    }
   ],
   "source": [
    "show_graph(vocab_title, sizes_title)"
   ]
  },
  {
   "cell_type": "code",
   "execution_count": 14,
   "id": "d641ed47",
   "metadata": {
    "scrolled": true
   },
   "outputs": [
    {
     "data": {
      "image/png": "[encoded data removed]",
      "text/plain": [
       "<Figure size 1500x900 with 3 Axes>"
      ]
     },
     "metadata": {},
     "output_type": "display_data"
    }
   ],
   "source": [
    "show_graph(vocab_genres, sizes_genres)"
   ]
  },
  {
   "cell_type": "code",
   "execution_count": 15,
   "id": "676aa945",
   "metadata": {},
   "outputs": [
    {
     "data": {
      "application/vnd.jupyter.widget-view+json": {
       "model_id": "68cb04bd2ee349878664cd06fe591170",
       "version_major": 2,
       "version_minor": 0
      },
      "text/plain": [
       "  0%|          | 0/7441183 [00:00<?, ?it/s]"
      ]
     },
     "metadata": {},
     "output_type": "display_data"
    },
    {
     "data": {
      "application/vnd.jupyter.widget-view+json": {
       "model_id": "1c6c13b9215d49fdb40336eca2da6441",
       "version_major": 2,
       "version_minor": 0
      },
      "text/plain": [
       "  0%|          | 0/7441183 [00:00<?, ?it/s]"
      ]
     },
     "metadata": {},
     "output_type": "display_data"
    }
   ],
   "source": [
    "vocab_title = Counter()\n",
    "sizes_title = Counter()\n",
    "\n",
    "vocab_genres = Counter()\n",
    "sizes_genres = Counter()\n",
    "movie_for_skip = []\n",
    "movie_for_skip.extend(update_vocab(dt, vocab_title, sizes_title, 10, False))\n",
    "movie_for_skip.extend(update_vocab(dt, vocab_genres, sizes_genres, 7, True))"
   ]
  },
  {
   "cell_type": "code",
   "execution_count": 16,
   "id": "c2c65f1c",
   "metadata": {},
   "outputs": [],
   "source": [
    "tok_to_ind = {\n",
    "    \"[PAD]\": 0,\n",
    "    \"[UNK]\": 1,\n",
    "    \"no genres listed\": 2\n",
    "}\n",
    "ind_to_tok = {\n",
    "    0: \"[PAD]\",\n",
    "    1: \"[UNK]\",\n",
    "    2: \"no genres listed\"\n",
    "}"
   ]
  },
  {
   "cell_type": "code",
   "execution_count": 17,
   "id": "77f7b10c",
   "metadata": {},
   "outputs": [],
   "source": [
    "min_frequency = 3\n",
    "last_free_index = len(tok_to_ind)\n",
    "for token in vocab_title.keys():\n",
    "    if vocab_title[token] >= min_frequency and token not in tok_to_ind:\n",
    "        tok_to_ind[token] = last_free_index\n",
    "        ind_to_tok[last_free_index] = token\n",
    "        last_free_index += 1\n",
    "\n",
    "for token in vocab_genres.keys():\n",
    "    if vocab_genres[token] >= min_frequency and token not in tok_to_ind:\n",
    "        tok_to_ind[token] = last_free_index\n",
    "        ind_to_tok[last_free_index] = token\n",
    "        last_free_index += 1"
   ]
  },
  {
   "cell_type": "code",
   "execution_count": 18,
   "id": "2ae3e359",
   "metadata": {},
   "outputs": [
    {
     "data": {
      "application/vnd.jupyter.widget-view+json": {
       "model_id": "5b95b0ce6dd64f4f870c8d07aec70146",
       "version_major": 2,
       "version_minor": 0
      },
      "text/plain": [
       "  0%|          | 0/7441183 [00:00<?, ?it/s]"
      ]
     },
     "metadata": {},
     "output_type": "display_data"
    },
    {
     "data": {
      "text/html": [
       "<div>\n",
       "<style scoped>\n",
       "    .dataframe tbody tr th:only-of-type {\n",
       "        vertical-align: middle;\n",
       "    }\n",
       "\n",
       "    .dataframe tbody tr th {\n",
       "        vertical-align: top;\n",
       "    }\n",
       "\n",
       "    .dataframe thead th {\n",
       "        text-align: right;\n",
       "    }\n",
       "</style>\n",
       "<table border=\"1\" class=\"dataframe\">\n",
       "  <thead>\n",
       "    <tr style=\"text-align: right;\">\n",
       "      <th></th>\n",
       "      <th>userId</th>\n",
       "      <th>movieId</th>\n",
       "      <th>title</th>\n",
       "      <th>genres</th>\n",
       "      <th>rating</th>\n",
       "    </tr>\n",
       "  </thead>\n",
       "  <tbody>\n",
       "    <tr>\n",
       "      <th>251747</th>\n",
       "      <td>3</td>\n",
       "      <td>1221</td>\n",
       "      <td>Godfather: Part II, The (1974)</td>\n",
       "      <td>Crime|Drama</td>\n",
       "      <td>4.0</td>\n",
       "    </tr>\n",
       "    <tr>\n",
       "      <th>251748</th>\n",
       "      <td>15</td>\n",
       "      <td>1221</td>\n",
       "      <td>Godfather: Part II, The (1974)</td>\n",
       "      <td>Crime|Drama</td>\n",
       "      <td>4.0</td>\n",
       "    </tr>\n",
       "    <tr>\n",
       "      <th>251749</th>\n",
       "      <td>37</td>\n",
       "      <td>1221</td>\n",
       "      <td>Godfather: Part II, The (1974)</td>\n",
       "      <td>Crime|Drama</td>\n",
       "      <td>3.0</td>\n",
       "    </tr>\n",
       "    <tr>\n",
       "      <th>251750</th>\n",
       "      <td>49</td>\n",
       "      <td>1221</td>\n",
       "      <td>Godfather: Part II, The (1974)</td>\n",
       "      <td>Crime|Drama</td>\n",
       "      <td>2.0</td>\n",
       "    </tr>\n",
       "    <tr>\n",
       "      <th>251752</th>\n",
       "      <td>56</td>\n",
       "      <td>1221</td>\n",
       "      <td>Godfather: Part II, The (1974)</td>\n",
       "      <td>Crime|Drama</td>\n",
       "      <td>3.0</td>\n",
       "    </tr>\n",
       "    <tr>\n",
       "      <th>...</th>\n",
       "      <td>...</td>\n",
       "      <td>...</td>\n",
       "      <td>...</td>\n",
       "      <td>...</td>\n",
       "      <td>...</td>\n",
       "    </tr>\n",
       "    <tr>\n",
       "      <th>17436773</th>\n",
       "      <td>283158</td>\n",
       "      <td>1573</td>\n",
       "      <td>Face/Off (1997)</td>\n",
       "      <td>Action|Crime|Drama|Thriller</td>\n",
       "      <td>4.0</td>\n",
       "    </tr>\n",
       "    <tr>\n",
       "      <th>17436774</th>\n",
       "      <td>283171</td>\n",
       "      <td>1573</td>\n",
       "      <td>Face/Off (1997)</td>\n",
       "      <td>Action|Crime|Drama|Thriller</td>\n",
       "      <td>3.0</td>\n",
       "    </tr>\n",
       "    <tr>\n",
       "      <th>17436775</th>\n",
       "      <td>283185</td>\n",
       "      <td>1573</td>\n",
       "      <td>Face/Off (1997)</td>\n",
       "      <td>Action|Crime|Drama|Thriller</td>\n",
       "      <td>3.0</td>\n",
       "    </tr>\n",
       "    <tr>\n",
       "      <th>17436776</th>\n",
       "      <td>283195</td>\n",
       "      <td>1573</td>\n",
       "      <td>Face/Off (1997)</td>\n",
       "      <td>Action|Crime|Drama|Thriller</td>\n",
       "      <td>2.0</td>\n",
       "    </tr>\n",
       "    <tr>\n",
       "      <th>17436777</th>\n",
       "      <td>283213</td>\n",
       "      <td>1573</td>\n",
       "      <td>Face/Off (1997)</td>\n",
       "      <td>Action|Crime|Drama|Thriller</td>\n",
       "      <td>4.0</td>\n",
       "    </tr>\n",
       "  </tbody>\n",
       "</table>\n",
       "<p>7414489 rows × 5 columns</p>\n",
       "</div>"
      ],
      "text/plain": [
       "          userId  movieId                           title  \\\n",
       "251747         3     1221  Godfather: Part II, The (1974)   \n",
       "251748        15     1221  Godfather: Part II, The (1974)   \n",
       "251749        37     1221  Godfather: Part II, The (1974)   \n",
       "251750        49     1221  Godfather: Part II, The (1974)   \n",
       "251752        56     1221  Godfather: Part II, The (1974)   \n",
       "...          ...      ...                             ...   \n",
       "17436773  283158     1573                 Face/Off (1997)   \n",
       "17436774  283171     1573                 Face/Off (1997)   \n",
       "17436775  283185     1573                 Face/Off (1997)   \n",
       "17436776  283195     1573                 Face/Off (1997)   \n",
       "17436777  283213     1573                 Face/Off (1997)   \n",
       "\n",
       "                               genres  rating  \n",
       "251747                    Crime|Drama     4.0  \n",
       "251748                    Crime|Drama     4.0  \n",
       "251749                    Crime|Drama     3.0  \n",
       "251750                    Crime|Drama     2.0  \n",
       "251752                    Crime|Drama     3.0  \n",
       "...                               ...     ...  \n",
       "17436773  Action|Crime|Drama|Thriller     4.0  \n",
       "17436774  Action|Crime|Drama|Thriller     3.0  \n",
       "17436775  Action|Crime|Drama|Thriller     3.0  \n",
       "17436776  Action|Crime|Drama|Thriller     2.0  \n",
       "17436777  Action|Crime|Drama|Thriller     4.0  \n",
       "\n",
       "[7414489 rows x 5 columns]"
      ]
     },
     "execution_count": 18,
     "metadata": {},
     "output_type": "execute_result"
    }
   ],
   "source": [
    "movie_for_skip = set(movie_for_skip)\n",
    "right_ind = np.ones((len(dt)))\n",
    "for i in trange(len(dt)):\n",
    "    if dt.movieId.to_numpy()[i] in movie_for_skip:\n",
    "        right_ind[i] = -1\n",
    "indexes = right_ind > 0\n",
    "dt.iloc[indexes]"
   ]
  },
  {
   "cell_type": "code",
   "execution_count": 19,
   "id": "8be24844",
   "metadata": {},
   "outputs": [],
   "source": [
    "dt = dt.iloc[indexes]"
   ]
  },
  {
   "cell_type": "code",
   "execution_count": 20,
   "id": "d86fd825",
   "metadata": {},
   "outputs": [],
   "source": [
    "dt.to_csv(\"data.csv\")"
   ]
  },
  {
   "cell_type": "code",
   "execution_count": 21,
   "id": "680c7c53",
   "metadata": {},
   "outputs": [],
   "source": [
    "import pickle \n",
    "\n",
    "with open('tok_to_ind.pkl', 'wb') as f:\n",
    "    pickle.dump(tok_to_ind, f)"
   ]
  },
  {
   "cell_type": "code",
   "execution_count": null,
   "id": "be9abddc",
   "metadata": {},
   "outputs": [],
   "source": []
  }
 ],
 "metadata": {
  "kernelspec": {
   "display_name": "Python 3 (ipykernel)",
   "language": "python",
   "name": "python3"
  },
  "language_info": {
   "codemirror_mode": {
    "name": "ipython",
    "version": 3
   },
   "file_extension": ".py",
   "mimetype": "text/x-python",
   "name": "python",
   "nbconvert_exporter": "python",
   "pygments_lexer": "ipython3",
   "version": "3.10.10"
  }
 },
 "nbformat": 4,
 "nbformat_minor": 5
}
